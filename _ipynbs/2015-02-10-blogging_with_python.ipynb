{
 "metadata": {
  "name": "",
  "signature": "sha256:e8105146ea4232e5babe5f8514426b44b9ee890c8ce3c6bc168949d109d4c224"
 },
 "nbformat": 3,
 "nbformat_minor": 0,
 "worksheets": [
  {
   "cells": [
    {
     "cell_type": "markdown",
     "metadata": {},
     "source": [
      "IPython Notebook\uacfc Jekyll\uc744 \uc5f0\ub3d9\ud558\uc5ec \ube14\ub85c\uae45\uc744 \ud558\ub294 \ubc29\ubc95\uc744 \uc18c\uac1c\ud55c\ub2e4.\n",
      "\n",
      "\n",
      "# IPython Notebook\n",
      "\n",
      "[IPython Notebook](http://ipython.org/notebook.html)\uc744 \uc0ac\uc6a9\ud558\uba74 \uc6f9\uc5d0\uc11c \ucf54\ub4dc\uc640 \uc218\uc2dd\uacfc \uadf8\ub798\ud504\uac00 \uc5b4\uc6b0\ub7ec\uc9c4 \ubb38\uc11c\ub97c \uc791\uc131\ud560 \uc218 \uc788\ub2e4. \uc774\ub97c\ud14c\uba74 LaTeX\uc744 \uc368\uc11c $c = \\sqrt{a^2 + b^2}$ \uc774\ub7f0 \uc218\uc2dd\uc744 \ub9cc\ub4e4\uac70\ub098, \ucf54\ub4dc\ub97c \uc2e4\ud589\ud558\uc5ec 0\ubd80\ud130 9\uae4c\uc9c0\uc758 \ub204\uc801 \ud569\uacc4(accumulative sum)\ub97c \uad6c\ud560 \uc218 \uc788\ub2e4:"
     ]
    },
    {
     "cell_type": "code",
     "collapsed": false,
     "input": [
      "a = np.arange(10)\n",
      "np.cumsum(a)"
     ],
     "language": "python",
     "metadata": {},
     "outputs": [
      {
       "metadata": {},
       "output_type": "pyout",
       "prompt_number": 2,
       "text": [
        "array([ 0,  1,  3,  6, 10, 15, 21, 28, 36, 45])"
       ]
      }
     ],
     "prompt_number": 2
    },
    {
     "cell_type": "markdown",
     "metadata": {},
     "source": [
      "\ubb3c\ub860 \uadf8\ub798\ud504\ub3c4 \uadf8\ub9b4 \uc218 \uc788\ub2e4:"
     ]
    },
    {
     "cell_type": "code",
     "collapsed": false,
     "input": [
      "plot(np.cumsum(a))"
     ],
     "language": "python",
     "metadata": {},
     "outputs": [
      {
       "metadata": {},
       "output_type": "pyout",
       "prompt_number": 4,
       "text": [
        "[<matplotlib.lines.Line2D at 0x106a8e6d8>]"
       ]
      },
      {
       "metadata": {},
       "output_type": "display_data",
       "png": "[encoded data removed]",
       "text": [
        "<matplotlib.figure.Figure at 0x1062b9e48>"
       ]
      }
     ],
     "prompt_number": 4
    },
    {
     "cell_type": "markdown",
     "metadata": {},
     "source": [
      "# Jekyll\n",
      "\n",
      "[Jekyll](http://jekyllrb.com/)\uc740 \ube14\ub85c\uadf8\ub098 \uac04\ub2e8\ud55c \uc6f9\uc0ac\uc774\ud2b8\ub97c \ub9cc\ub4e4 \uc218 \uc788\ub294 \uc6f9 \uc0ac\uc774\ud2b8 \uc0dd\uc131\uae30\uc774\ub2e4. \ub9c8\ud06c\ub2e4\uc6b4 \ubb38\uc11c\ub098 HTML \ubb38\uc11c \ud30c\uc77c\ub4e4\uc744 \uc801\uc808\ud55c \ub514\ub809\ud1a0\ub9ac \uad6c\uc870\uc5d0 \ub9de\ucdb0\uc11c \ub123\uc5b4\uc8fc\uba74 \uc6f9\uc0ac\uc774\ud2b8\uac00 \ub9cc\ub4e4\uc5b4\uc9c4\ub2e4. Box and Whisker\uc758 \uacf5\uc2dd \uc6f9\uc0ac\uc774\ud2b8\ub3c4 Jekyll\uc744 \uc774\uc6a9\ud558\uc5ec \uc6b4\uc601\ud558\uace0 \uc788\ub2e4.\n",
      "\n",
      "# IPython Notebook + Jekyll\n",
      "\n",
      "IPython Notebook\uc5d0\uc11c \uc791\uc131\ub41c \ud30c\uc77c\uc740 `ipynb` \ud655\uc7a5\uc790\ub85c \uc800\uc7a5\ub418\uc9c0\ub9cc, \ub2e4\uc74c \uba85\ub839\uc744 \uc2e4\ud589\ud558\uba74 HTML \ubb38\uc11c\ub85c \ubcc0\uacbd\ud560 \uc218 \uc788\ub2e4:\n",
      "\n",
      "    > ipython nbconvert --to html test.ipynb\n",
      "\n",
      "\ud558\uc9c0\ub9cc \ub0b4\uac00 \uc6d0\ud558\ub294 \uac83\uc740 \uc804\uccb4 HTML \ubb38\uc11c\uac00 \uc544\ub2c8\ub77c \uc6f9\uc0ac\uc774\ud2b8 \uc911\uac04\uc5d0 \uc0bd\uc785\ud560 \uc218 \uc788\ub294 HTML \uc870\uac01(fragment)\uc774\ub2e4. \ub2e4\uc74c \uba85\ub839\uc744 \uc2e4\ud589\ud558\uba74 \ub2e8\uc77c\ud55c `<div>` \ub8e8\ud2b8 \uc694\uc18c\ub97c \uac16\ub294 HTML \uc870\uac01\uc744 \uc5bb\uc5b4\ub0bc \uc218 \uc788\ub2e4:\n",
      "\n",
      "    > ipython nbconvert --to html --template basic test.ipynb\n",
      "\n",
      "\ud558\ub098 \ub354. \ud30c\uc77c\uc744 \uc0dd\uc131\ud558\ub294\uac8c \uc544\ub2c8\ub77c \uacb0\uacfc\ub97c \ud45c\uc900 \ucd9c\ub825(Standard Output)\uc73c\ub85c \ub0b4\ubcf4\ub0b4\ub824\uba74 \uc544\ub798\uc640 \uac19\uc740 \uc635\uc158\uc744 \uc8fc\uc790:\n",
      "\n",
      "    > ipython nbconvert --to html --template basic --stdout test.ipynb\n",
      "\n",
      "\uc774\uc81c \uc900\ube44\ub294 \ub05d\ub0ac\uace0, Jekyll \ud50c\ub7ec\uadf8\uc778\uc744 \ub9cc\ub4e4\uc5b4\uc11c \uc704 \ucf54\ub4dc\uac00 \uc790\ub3d9\uc73c\ub85c \uc2e4\ud589\ub418\uac8c \ud558\uba74 \ub41c\ub2e4.\n",
      "\n",
      "[\ud50c\ub7ec\uadf8\uc778 \uac1c\ubc1c \ubb38\uc11c](http://jekyllrb.com/docs/plugins/)\ub97c \ucc38\uace0\ud574\uc11c \uc544\ub798\uc640 \uac19\uc774 \uac04\ub2e8\ud55c \ucf54\ub4dc\ub97c \ub9cc\ub4e4\uc5c8\ub2e4:\n",
      "\n",
      "    module Jekyll\n",
      "      class IPythonNotebook < Converter\n",
      "        safe true\n",
      "        priority :low\n",
      "\n",
      "        def matches(ext)\n",
      "          ext =~ /^\\.ipynbref$/i\n",
      "        end\n",
      "\n",
      "        def output_ext(ext)\n",
      "          \".html\"\n",
      "        end\n",
      "\n",
      "        def convert(content)\n",
      "          `ipython nbconvert --to html --template basic --stdout \\`pwd\\`/_ipynbs/#{content}`\n",
      "        end\n",
      "      end\n",
      "    end\n",
      "\n",
      "`ipynbref` \ud30c\uc77c\uc744 \ucc3e\uc544\uc11c, \uadf8 \ud30c\uc77c\uc5d0 \ub2f4\uaca8\uc788\ub294 `ipynb` \ud30c\uc77c\uc744 HTML\ub85c \ubcc0\ud658\ud574\uc8fc\ub294 \ucf54\ub4dc\uc774\ub2e4. \uc774\uc81c `_ipynbs` \ub514\ub799\ud1a0\ub9ac\ub97c \ub9cc\ub4e4\uace0 `ipynb` \ud30c\uc77c\uc744 \uc800\uc7a5\ud55c \ub2e4\uc74c, `_posts` \ub514\ub809\ud130\ub9ac\uc5d0 `markdown` \ud30c\uc77c \ub300\uc2e0 `ipynbref` \ud30c\uc77c\uc744 \ub9cc\ub4e4\uc5b4\uc8fc\uba74 \ub41c\ub2e4. \uc608\ub97c \ub4e4\uc5b4 \uc9c0\uae08 \uc77d\uace0 \uc788\ub294 \ubb38\uc11c\uc758 `ipynbref` \ud30c\uc77c\uc740 \uc544\ub798\uc640 \uac19\ub2e4:\n",
      "\n",
      "    ---\n",
      "    layout: post\n",
      "    title: IPython Notebook\uc73c\ub85c \ube14\ub85c\uae45\ud558\uae30\n",
      "    author: \uac15\uaddc\uc601\n",
      "    date: 2015-02-10 14:00:00\n",
      "    ---\n",
      "    2015-02-10-blogging_with_python.ipynb\n",
      "\n",
      "\uc774\uc81c \ub2e4\uc74c \uba85\ub839\uc73c\ub85c Jekyll\uc744 \uc2e4\ud589\ud558\uba74 \ub05d:\n",
      "\n",
      "    > jekyll serve --watch\n",
      "\n",
      "\uae30\ubcf8 \uadf8\ub798\ud504 \uc0c9\uc0c1\uc774 \ub9c8\uc74c\uc5d0 \uc548\ub4e4\uc5b4\uc11c \uc880 \ubd88\ub9cc\uc774\uc9c0\ub9cc \uc774\ub9cc\ud558\uba74 \ud6cc\ub96d. \uadf8\ub798\ud504 \uc0c9\uc0c1\uacfc \uad00\ub828\ud574\uc11c\ub294 \ud560 \ub9d0\uc774 \ub9ce\uc73c\ub2c8 \uc870\ub9cc\uac04 \ubcc4\ub3c4\ub85c \uae00\uc744 \uc4f8 \uc0dd\uac01\uc774\ub2e4.\n"
     ]
    },
    {
     "cell_type": "code",
     "collapsed": false,
     "input": [],
     "language": "python",
     "metadata": {},
     "outputs": []
    }
   ],
   "metadata": {}
  }
 ]
}